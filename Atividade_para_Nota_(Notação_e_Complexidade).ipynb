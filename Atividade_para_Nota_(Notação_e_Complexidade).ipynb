{
  "nbformat": 4,
  "nbformat_minor": 0,
  "metadata": {
    "colab": {
      "provenance": [],
      "authorship_tag": "ABX9TyMppogyxjKlzwzyYyZ7RPmB",
      "include_colab_link": true
    },
    "kernelspec": {
      "name": "python3",
      "display_name": "Python 3"
    },
    "language_info": {
      "name": "python"
    }
  },
  "cells": [
    {
      "cell_type": "markdown",
      "metadata": {
        "id": "view-in-github",
        "colab_type": "text"
      },
      "source": [
        "<a href=\"https://colab.research.google.com/github/MLNETO22/Algoritmos/blob/main/Atividade_para_Nota_(Nota%C3%A7%C3%A3o_e_Complexidade).ipynb\" target=\"_parent\"><img src=\"https://colab.research.google.com/assets/colab-badge.svg\" alt=\"Open In Colab\"/></a>"
      ]
    },
    {
      "cell_type": "markdown",
      "source": [
        "### **Código 1: Busca Linear**"
      ],
      "metadata": {
        "id": "mfo9FWAS_UUs"
      }
    },
    {
      "cell_type": "markdown",
      "source": [
        "Este código implementa um algoritmo de busca linear em uma lista, que verifica cada elemento sequencialmente até encontrar o alvo ou chegar ao fim."
      ],
      "metadata": {
        "id": "W_l0oeJ7_akR"
      }
    },
    {
      "cell_type": "code",
      "execution_count": null,
      "metadata": {
        "id": "tt0jegbZ-dR3"
      },
      "outputs": [],
      "source": [
        "def linear_search(arr, target):\n",
        "    for i in range(len(arr)):\n",
        "        if arr[i] == target:\n",
        "            return i\n",
        "    return -1"
      ]
    },
    {
      "cell_type": "markdown",
      "source": [
        "**Documentação de Complexidade**"
      ],
      "metadata": {
        "id": "TGUwH0xR_qOC"
      }
    },
    {
      "cell_type": "markdown",
      "source": [
        "*   **Notação Big O (Tempo)**: O(n), onde n é o tamanho da lista. No pior caso, o algoritmo precisa percorrer todos os elementos da lista.\n",
        "*   **Complexidade de Espaço**: O(1), pois não utiliza espaço adicional além de variáveis constantes.\n",
        "*   **Análise**: A complexidade é linear porque o número de operações cresce diretamente proporcional ao tamanho da entrada. É eficiente para listas pequenas ou não ordenadas, mas ineficiente para grandes volumes de dados em comparação com algoritmos mais otimizados."
      ],
      "metadata": {
        "id": "epvnbFPt__a5"
      }
    },
    {
      "cell_type": "markdown",
      "source": [
        "**Teste**"
      ],
      "metadata": {
        "id": "WKkAxbLTAe0s"
      }
    },
    {
      "cell_type": "markdown",
      "source": [
        "*   **Entrada**: arr = [1, 2, 3, 4, 5], target = 3\n",
        "*   **Saída**: 2 (índice do elemento encontrado)"
      ],
      "metadata": {
        "id": "ccDzKAI8Ag2P"
      }
    },
    {
      "cell_type": "markdown",
      "source": [
        "### **Código 2: Busca Binária**"
      ],
      "metadata": {
        "id": "9Ve2FUzUA6O9"
      }
    },
    {
      "cell_type": "markdown",
      "source": [
        "Este código implementa um algoritmo de busca binária em uma lista ordenada, dividindo o intervalo de busca pela metade a cada iteração."
      ],
      "metadata": {
        "id": "Kzz9Is1jBSiq"
      }
    },
    {
      "cell_type": "code",
      "source": [
        "def binary_search(arr, target):\n",
        "    low = 0\n",
        "    high = len(arr) - 1\n",
        "    while low <= high:\n",
        "        mid = (low + high) // 2\n",
        "        if arr[mid] == target:\n",
        "            return mid\n",
        "        elif arr[mid] < target:\n",
        "            low = mid + 1\n",
        "        else:\n",
        "            high = mid - 1\n",
        "    return -1"
      ],
      "metadata": {
        "id": "itJ519j4BWLc"
      },
      "execution_count": null,
      "outputs": []
    },
    {
      "cell_type": "markdown",
      "source": [
        "**Documentação de Complexidade**"
      ],
      "metadata": {
        "id": "NJd_i_YrBYW8"
      }
    },
    {
      "cell_type": "markdown",
      "source": [
        "*   **Notação Big O (Tempo)**: O(log n), onde n é o tamanho da lista. Cada iteração reduz o espaço de busca pela metade, resultando em um número logarítmico de operações.\n",
        "*   **Complexidade de Espaço**: O(1), utilizando apenas variáveis constantes para índices.\n",
        "*   **Análise**: A complexidade logarítmica torna este algoritmo muito eficiente para listas grandes e ordenadas. Requer que a lista esteja pré-ordenada; caso contrário, uma ordenação prévia adicionaria O(n log n) de complexidade."
      ],
      "metadata": {
        "id": "_qq6Z0IKBb9B"
      }
    },
    {
      "cell_type": "markdown",
      "source": [
        "**Teste**"
      ],
      "metadata": {
        "id": "amPUi8sMB5r9"
      }
    },
    {
      "cell_type": "markdown",
      "source": [
        "*   **Entrada**: arr = [1, 2, 3, 4, 5], target = 3\n",
        "*   **Saída**: 2 (índice do elemento encontrado)"
      ],
      "metadata": {
        "id": "aG7W4RpgB703"
      }
    },
    {
      "cell_type": "markdown",
      "source": [
        "### **Código 3: Ordenação por Bolha (Bubble Sort)**"
      ],
      "metadata": {
        "id": "CPVQAJwPCIwM"
      }
    },
    {
      "cell_type": "markdown",
      "source": [
        "Este código implementa o algoritmo de ordenação por bolha, que compara e troca elementos adjacentes repetidamente até que a lista esteja ordenada."
      ],
      "metadata": {
        "id": "mGsKngRtCN2K"
      }
    },
    {
      "cell_type": "code",
      "source": [
        "def bubble_sort(arr):\n",
        "    n = len(arr)\n",
        "    for i in range(n):\n",
        "        for j in range(0, n - i - 1):\n",
        "            if arr[j] > arr[j + 1]:\n",
        "                arr[j], arr[j + 1] = arr[j + 1], arr[j]\n",
        "    return arr"
      ],
      "metadata": {
        "id": "GitXJXAoCT5u"
      },
      "execution_count": null,
      "outputs": []
    },
    {
      "cell_type": "markdown",
      "source": [
        "**Documentação de Complexidade**"
      ],
      "metadata": {
        "id": "WJDVmK6tCU99"
      }
    },
    {
      "cell_type": "markdown",
      "source": [
        "*   **Notação Big O (Tempo)**: O(n²), onde n é o tamanho da lista. No pior caso, o algoritmo realiza comparações e trocas em loops aninhados, resultando em operações quadráticas.\n",
        "*   **Complexidade de Espaço**: O(1), pois ordena a lista no local sem alocar espaço extra significativo.\n",
        "*   **Análise**: A complexidade quadrática o torna ineficiente para listas grandes, mas é simples de implementar e entender. Pode ser otimizado com uma flag para detectar listas já ordenadas, reduzindo o melhor caso para O(n)."
      ],
      "metadata": {
        "id": "VYHnv-8rCaGA"
      }
    },
    {
      "cell_type": "markdown",
      "source": [
        "**Teste**"
      ],
      "metadata": {
        "id": "oS6_PfWSCvBh"
      }
    },
    {
      "cell_type": "markdown",
      "source": [
        "*   Entrada: arr = [5, 3, 8, 4, 2]\n",
        "*   Saída: [2, 3, 4, 5, 8] (lista ordenada)"
      ],
      "metadata": {
        "id": "eIX4UDzQCxAn"
      }
    }
  ]
}