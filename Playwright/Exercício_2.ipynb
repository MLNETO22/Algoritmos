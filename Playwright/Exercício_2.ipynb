{
  "nbformat": 4,
  "nbformat_minor": 0,
  "metadata": {
    "colab": {
      "provenance": [],
      "authorship_tag": "ABX9TyOwsbrPHIporfa/qehuOdB4",
      "include_colab_link": true
    },
    "kernelspec": {
      "name": "python3",
      "display_name": "Python 3"
    },
    "language_info": {
      "name": "python"
    }
  },
  "cells": [
    {
      "cell_type": "markdown",
      "metadata": {
        "id": "view-in-github",
        "colab_type": "text"
      },
      "source": [
        "<a href=\"https://colab.research.google.com/github/MLNETO22/Algoritmos/blob/main/Playwright/Exerc%C3%ADcio_2.ipynb\" target=\"_parent\"><img src=\"https://colab.research.google.com/assets/colab-badge.svg\" alt=\"Open In Colab\"/></a>"
      ]
    },
    {
      "cell_type": "code",
      "source": [
        "!pip install playwright\n",
        "!playwright install"
      ],
      "metadata": {
        "collapsed": true,
        "colab": {
          "base_uri": "https://localhost:8080/"
        },
        "id": "s5_YhOgBJ0pC",
        "outputId": "2927c55c-cf77-4964-d211-9b9c28a834ff"
      },
      "execution_count": 4,
      "outputs": [
        {
          "output_type": "stream",
          "name": "stdout",
          "text": [
            "Requirement already satisfied: playwright in /usr/local/lib/python3.12/dist-packages (1.55.0)\n",
            "Requirement already satisfied: pyee<14,>=13 in /usr/local/lib/python3.12/dist-packages (from playwright) (13.0.0)\n",
            "Requirement already satisfied: greenlet<4.0.0,>=3.1.1 in /usr/local/lib/python3.12/dist-packages (from playwright) (3.2.4)\n",
            "Requirement already satisfied: typing-extensions in /usr/local/lib/python3.12/dist-packages (from pyee<14,>=13->playwright) (4.15.0)\n"
          ]
        }
      ]
    },
    {
      "cell_type": "code",
      "source": [
        "import asyncio\n",
        "from playwright.async_api import async_playwright\n",
        "\n",
        "async def scrape_quotes():\n",
        "    async with async_playwright() as p:\n",
        "        browser = await p.chromium.launch(headless=True)\n",
        "        page = await browser.new_page()\n",
        "\n",
        "        await page.goto('https://quotes.toscrape.com/')\n",
        "\n",
        "        quotes = await page.locator('div.quote').all()\n",
        "\n",
        "        for quote in quotes:\n",
        "            quote_text = await quote.locator('span.text').inner_text()\n",
        "            author = await quote.locator('small.author').inner_text()\n",
        "            print(f'Citação: {quote_text}')\n",
        "            print(f'Autor: {author}')\n",
        "            print('-' * 50)\n",
        "\n",
        "        await browser.close()\n",
        "\n",
        "await scrape_quotes()"
      ],
      "metadata": {
        "colab": {
          "base_uri": "https://localhost:8080/"
        },
        "id": "a34gsEvgJuiR",
        "outputId": "c63f8c97-2396-44a4-c8be-5de70e73d84f"
      },
      "execution_count": 7,
      "outputs": [
        {
          "output_type": "stream",
          "name": "stdout",
          "text": [
            "Citação: “The world as we have created it is a process of our thinking. It cannot be changed without changing our thinking.”\n",
            "Autor: Albert Einstein\n",
            "--------------------------------------------------\n",
            "Citação: “It is our choices, Harry, that show what we truly are, far more than our abilities.”\n",
            "Autor: J.K. Rowling\n",
            "--------------------------------------------------\n",
            "Citação: “There are only two ways to live your life. One is as though nothing is a miracle. The other is as though everything is a miracle.”\n",
            "Autor: Albert Einstein\n",
            "--------------------------------------------------\n",
            "Citação: “The person, be it gentleman or lady, who has not pleasure in a good novel, must be intolerably stupid.”\n",
            "Autor: Jane Austen\n",
            "--------------------------------------------------\n",
            "Citação: “Imperfection is beauty, madness is genius and it's better to be absolutely ridiculous than absolutely boring.”\n",
            "Autor: Marilyn Monroe\n",
            "--------------------------------------------------\n",
            "Citação: “Try not to become a man of success. Rather become a man of value.”\n",
            "Autor: Albert Einstein\n",
            "--------------------------------------------------\n",
            "Citação: “It is better to be hated for what you are than to be loved for what you are not.”\n",
            "Autor: André Gide\n",
            "--------------------------------------------------\n",
            "Citação: “I have not failed. I've just found 10,000 ways that won't work.”\n",
            "Autor: Thomas A. Edison\n",
            "--------------------------------------------------\n",
            "Citação: “A woman is like a tea bag; you never know how strong it is until it's in hot water.”\n",
            "Autor: Eleanor Roosevelt\n",
            "--------------------------------------------------\n",
            "Citação: “A day without sunshine is like, you know, night.”\n",
            "Autor: Steve Martin\n",
            "--------------------------------------------------\n"
          ]
        }
      ]
    }
  ]
}