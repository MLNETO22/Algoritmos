{
  "nbformat": 4,
  "nbformat_minor": 0,
  "metadata": {
    "colab": {
      "provenance": [],
      "authorship_tag": "ABX9TyN1TIVVArYyQ3d0ZT2w8JvQ",
      "include_colab_link": true
    },
    "kernelspec": {
      "name": "python3",
      "display_name": "Python 3"
    },
    "language_info": {
      "name": "python"
    }
  },
  "cells": [
    {
      "cell_type": "markdown",
      "metadata": {
        "id": "view-in-github",
        "colab_type": "text"
      },
      "source": [
        "<a href=\"https://colab.research.google.com/github/MLNETO22/Algoritmos/blob/main/Trabalho_5.ipynb\" target=\"_parent\"><img src=\"https://colab.research.google.com/assets/colab-badge.svg\" alt=\"Open In Colab\"/></a>"
      ]
    },
    {
      "cell_type": "code",
      "execution_count": 3,
      "metadata": {
        "colab": {
          "base_uri": "https://localhost:8080/"
        },
        "id": "IQx22SQDjXya",
        "outputId": "5964a95b-8511-4023-c14b-8167a7db5fcf"
      },
      "outputs": [
        {
          "output_type": "stream",
          "name": "stdout",
          "text": [
            "Manchetes principais do G1:\n",
            "Título: Dia 4 do julgamento: como foi voto de Fux que abriu divergências com Moraes\n",
            "Link: https://g1.globo.com/politica/noticia/2025/09/10/julgamento-de-bolsonaro-dia-4-como-foi-o-voto-de-fux-para-absolver-o-ex-presidente-de-todos-os-crimes-placar-e-de-2-x-1-pela-condenacao.ghtml\n",
            "--------------------------------------------------\n",
            "Título: Placar do julgamento: veja como votaram os ministros até agora\n",
            "Link: https://g1.globo.com/politica/noticia/2025/09/09/trama-golpista-placar-do-julgamento-infografico.ghtml\n",
            "--------------------------------------------------\n",
            "Título: STF tem maioria para condenar Braga Netto por abolição do Estado de Direito\n",
            "Link: https://g1.globo.com/politica/noticia/2025/09/10/fux-vota-braga-netto.ghtml\n",
            "--------------------------------------------------\n",
            "Título: Fux vota para absolver Augusto Heleno de todos os cinco crimes\n",
            "Link: https://g1.globo.com/politica/noticia/2025/09/10/fux-vota-augusto-heleno.ghtml\n",
            "--------------------------------------------------\n",
            "Título: Após voto de 13h de Fux, Zanin decide retomar julgamento só amanhã à tarde\n",
            "Link: https://g1.globo.com/politica/ao-vivo/bolsonaro-julgamento-golpe-ao-vivo-stf.ghtml?postId=98b72185-9ce9-499d-bb4c-bc91785f1377\n",
            "--------------------------------------------------\n",
            "Título: Aliados de Bolsonaro comparam voto de Fux à tese inicial da defesa\n",
            "Link: https://g1.globo.com/politica/blog/andreia-sadi/post/2025/09/10/para-defesa-de-bolsonaro-voto-de-fux-pela-condenacao-de-braga-netto-reforca-inocencia-do-ex-presidente.ghtml\n",
            "--------------------------------------------------\n",
            "Título: Moraes autoriza Bolsonaro a realizar procedimento médico\n",
            "Link: https://g1.globo.com/politica/noticia/2025/09/10/moraes-autoriza-bolsonaro-a-realizar-procedimento-medico.ghtml\n",
            "--------------------------------------------------\n",
            "Título: Fux brinca com Dino antes do voto; veja VÍDEOS do 4º dia de julgamento\n",
            "Link: https://g1.globo.com/politica/playlist/videos-quarto-dia-de-julgamento-trama-golpista.ghtml\n",
            "--------------------------------------------------\n",
            "Dados salvos em 'g1_headlines.csv'\n"
          ]
        }
      ],
      "source": [
        "import requests\n",
        "from bs4 import BeautifulSoup\n",
        "import csv\n",
        "\n",
        "url = \"https://g1.globo.com/\"\n",
        "\n",
        "response = requests.get(url)\n",
        "response.raise_for_status()\n",
        "\n",
        "soup = BeautifulSoup(response.text, \"html.parser\")\n",
        "\n",
        "headlines = soup.find_all(\"a\", class_=\"feed-post-link\")\n",
        "\n",
        "news_data = []\n",
        "\n",
        "for headline in headlines:\n",
        "    title = headline.get_text(strip=True)\n",
        "    link = headline.get(\"href\")\n",
        "    if title and link:\n",
        "        news_data.append({\"title\": title, \"link\": link})\n",
        "\n",
        "print(\"Manchetes principais do G1:\")\n",
        "for item in news_data:\n",
        "    print(f\"Título: {item['title']}\")\n",
        "    print(f\"Link: {item['link']}\")\n",
        "    print(\"-\" * 50)\n",
        "\n",
        "with open(\"g1_headlines.csv\", \"w\", newline=\"\", encoding=\"utf-8\") as csvfile:\n",
        "    fieldnames = [\"title\", \"link\"]\n",
        "    writer = csv.DictWriter(csvfile, fieldnames=fieldnames)\n",
        "    writer.writeheader()\n",
        "    for item in news_data:\n",
        "        writer.writerow(item)\n",
        "\n",
        "print(\"Dados salvos em 'g1_headlines.csv'\")"
      ]
    }
  ]
}